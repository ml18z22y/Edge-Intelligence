{
  "nbformat": 4,
  "nbformat_minor": 0,
  "metadata": {
    "colab": {
      "name": "DTAlgorithm.ipynb",
      "provenance": [],
      "collapsed_sections": []
    },
    "kernelspec": {
      "name": "python3",
      "display_name": "Python 3"
    }
  },
  "cells": [
    {
      "cell_type": "code",
      "metadata": {
        "id": "VfYPkhWT-def",
        "colab_type": "code",
        "colab": {}
      },
      "source": [
        "import os\n",
        "import numpy as np\n",
        "import matplotlib.pyplot as plt\n",
        "from sklearn import tree\n",
        "import random\n",
        "import pickle\n",
        "from sklearn.metrics import classification_report\n",
        "from sklearn.metrics import confusion_matrix"
      ],
      "execution_count": null,
      "outputs": []
    },
    {
      "cell_type": "code",
      "metadata": {
        "id": "vjJc75oC-Qvp",
        "colab_type": "code",
        "colab": {
          "base_uri": "https://localhost:8080/",
          "height": 34
        },
        "outputId": "354702b2-d1c0-41c6-8341-a8eaaf60d7d1"
      },
      "source": [
        "from google.colab import drive\n",
        "drive.mount('/content/drive')"
      ],
      "execution_count": null,
      "outputs": [
        {
          "output_type": "stream",
          "text": [
            "Drive already mounted at /content/drive; to attempt to forcibly remount, call drive.mount(\"/content/drive\", force_remount=True).\n"
          ],
          "name": "stdout"
        }
      ]
    },
    {
      "cell_type": "code",
      "metadata": {
        "id": "BVsfj2uo-el7",
        "colab_type": "code",
        "colab": {}
      },
      "source": [
        "path = \"drive/My Drive/Colab Notebooks/data/Datasets_Healthy_Older_People/S1_Dataset\"\n",
        "files = os.listdir(path)\n",
        "gender_list = []\n",
        "for i in range(len(files)):\n",
        "    gender_list.append(files[i][-1])\n",
        "dataset = []\n",
        "for i in range(len(files)):\n",
        "    lines = []\n",
        "    file_path = path + \"/\" + files[i]\n",
        "    file = open(file_path, \"r\")\n",
        "    while True:\n",
        "        every_line = file.readline()\n",
        "        if not every_line:\n",
        "            break\n",
        "        every_line = every_line.strip().split(\",\")\n",
        "        every_line.insert(-1, (1. if gender_list[i] is \"M\" else 0.))\n",
        "        lines = [float(x) for x in every_line]\n",
        "        dataset.append(lines)\n",
        "random.shuffle(dataset)\n",
        "values = []\n",
        "classes = []\n",
        "for i in range(len(dataset)):\n",
        "    values.append(dataset[i][0:-1])\n",
        "    classes.append(int(dataset[i][-1])-1)\n",
        "values = np.array(values)\n",
        "classes = np.array(classes)"
      ],
      "execution_count": null,
      "outputs": []
    },
    {
      "cell_type": "code",
      "metadata": {
        "id": "fHwm8YrYIJit",
        "colab_type": "code",
        "colab": {}
      },
      "source": [
        "train_split = 0.7\n",
        "\n",
        "train_value_set = values[0:int(train_split*len(values))]\n",
        "train_class_set = classes[0:int(train_split*len(classes))]\n",
        "test_value_set = values[int(train_split*len(values)):]\n",
        "test_class_set = classes[int(train_split*len(classes)):]"
      ],
      "execution_count": null,
      "outputs": []
    },
    {
      "cell_type": "code",
      "metadata": {
        "id": "58vuVZ1GlQDP",
        "colab_type": "code",
        "colab": {}
      },
      "source": [
        "def select(condition, prediction, classes):\n",
        "  count = 0\n",
        "  length = 0\n",
        "  for pre, classe in zip(prediction, classes):\n",
        "    if pre == classe and pre == 3:\n",
        "      count += 1\n",
        "      length += 1\n",
        "    elif classe == 3:\n",
        "      length += 1\n",
        "  print(confusion_matrix(classes, prediction))\n",
        "  print(classification_report(classes, prediction))\n",
        "  return count, length"
      ],
      "execution_count": null,
      "outputs": []
    },
    {
      "cell_type": "code",
      "metadata": {
        "id": "-4fnoJuTHNAa",
        "colab_type": "code",
        "colab": {
          "base_uri": "https://localhost:8080/",
          "height": 105
        },
        "outputId": "0b51fd52-4fd4-4f5a-f86f-47388e2dcc9e"
      },
      "source": [
        "model = tree.DecisionTreeClassifier(max_depth=100, min_samples_leaf=1, min_samples_split=2)\n",
        "model.fit(train_value_set, train_class_set)\n",
        "prediction = np.array(model.predict(test_value_set))\n",
        "count, length = select(3, prediction, test_class_set)\n",
        "print(count / length)\n",
        "print(count)\n",
        "print(length)\n",
        "print(np.sum(prediction == test_class_set)/len(test_class_set))\n",
        "#在整个数据集进行测试\n",
        "prediction = np.array(model.predict(values))\n",
        "print(np.sum(prediction == classes)/len(classes))"
      ],
      "execution_count": null,
      "outputs": [
        {
          "output_type": "stream",
          "text": [
            "0.8519061583577713\n",
            "581\n",
            "682\n",
            "0.9854918141887395\n",
            "0.995647428388883\n"
          ],
          "name": "stdout"
        }
      ]
    },
    {
      "cell_type": "code",
      "metadata": {
        "id": "0V7_6UqAE1bt",
        "colab_type": "code",
        "colab": {}
      },
      "source": [
        "with open(\"/content/drive/My Drive/Colab Notebooks/data/Models/DT/DTModel.pickle\", \"wb\") as f:\n",
        "    pickle.dump(model, f)"
      ],
      "execution_count": null,
      "outputs": []
    },
    {
      "cell_type": "code",
      "metadata": {
        "id": "H0En5cGLpp8P",
        "colab_type": "code",
        "colab": {
          "base_uri": "https://localhost:8080/",
          "height": 280
        },
        "outputId": "85ad3302-b073-4e7e-d2a3-1f1f5a13658d"
      },
      "source": [
        "model = pickle.load(open(\"/content/drive/My Drive/Colab Notebooks/data/Models/DT/DTModel.pickle\", \"rb\"))\n",
        "prediction = model.predict(test_value_set)\n",
        "count, length = select(0, prediction, test_class_set)"
      ],
      "execution_count": null,
      "outputs": [
        {
          "output_type": "stream",
          "text": [
            "[[ 4900    12     3    20]\n",
            " [   16  1458     0     5]\n",
            " [    6     0 15431     2]\n",
            " [   23     7     0   656]]\n",
            "              precision    recall  f1-score   support\n",
            "\n",
            "           0       0.99      0.99      0.99      4935\n",
            "           1       0.99      0.99      0.99      1479\n",
            "           2       1.00      1.00      1.00     15439\n",
            "           3       0.96      0.96      0.96       686\n",
            "\n",
            "    accuracy                           1.00     22539\n",
            "   macro avg       0.98      0.98      0.98     22539\n",
            "weighted avg       1.00      1.00      1.00     22539\n",
            "\n"
          ],
          "name": "stdout"
        }
      ]
    }
  ]
}