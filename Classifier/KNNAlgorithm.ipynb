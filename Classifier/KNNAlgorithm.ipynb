{
  "nbformat": 4,
  "nbformat_minor": 0,
  "metadata": {
    "colab": {
      "name": "KNNAlgorithm.ipynb",
      "provenance": [],
      "collapsed_sections": []
    },
    "kernelspec": {
      "name": "python3",
      "display_name": "Python 3"
    }
  },
  "cells": [
    {
      "cell_type": "code",
      "metadata": {
        "id": "E_ITvies4uNz",
        "colab_type": "code",
        "colab": {}
      },
      "source": [
        "import os\n",
        "import numpy as np\n",
        "import matplotlib.pyplot as plt\n",
        "from sklearn import neighbors as neighbors\n",
        "import random\n",
        "import pickle\n",
        "from sklearn.metrics import classification_report\n",
        "from sklearn.metrics import confusion_matrix"
      ],
      "execution_count": null,
      "outputs": []
    },
    {
      "cell_type": "code",
      "metadata": {
        "id": "nXgAlbBplngV",
        "colab_type": "code",
        "colab": {
          "base_uri": "https://localhost:8080/",
          "height": 125
        },
        "outputId": "1b9f9683-ee0c-4167-ea79-6559512ad219"
      },
      "source": [
        "from google.colab import drive\n",
        "drive.mount('/content/drive')"
      ],
      "execution_count": null,
      "outputs": [
        {
          "output_type": "stream",
          "text": [
            "Go to this URL in a browser: https://accounts.google.com/o/oauth2/auth?client_id=947318989803-6bn6qk8qdgf4n4g3pfee6491hc0brc4i.apps.googleusercontent.com&redirect_uri=urn%3aietf%3awg%3aoauth%3a2.0%3aoob&scope=email%20https%3a%2f%2fwww.googleapis.com%2fauth%2fdocs.test%20https%3a%2f%2fwww.googleapis.com%2fauth%2fdrive%20https%3a%2f%2fwww.googleapis.com%2fauth%2fdrive.photos.readonly%20https%3a%2f%2fwww.googleapis.com%2fauth%2fpeopleapi.readonly&response_type=code\n",
            "\n",
            "Enter your authorization code:\n",
            "··········\n",
            "Mounted at /content/drive\n"
          ],
          "name": "stdout"
        }
      ]
    },
    {
      "cell_type": "code",
      "metadata": {
        "id": "WVSu7uG-lrUj",
        "colab_type": "code",
        "colab": {
          "base_uri": "https://localhost:8080/",
          "height": 157
        },
        "outputId": "6ee44369-fd32-4dfb-fb3b-3e0520d2a16e"
      },
      "source": [
        "path = \"drive/My Drive/Colab Notebooks/data/Datasets_Healthy_Older_People/S1_Dataset\"\n",
        "files = os.listdir(path)\n",
        "gender_list = []\n",
        "for i in range(len(files)):\n",
        "    gender_list.append(files[i][-1])\n",
        "dataset = []\n",
        "for i in range(len(files)):\n",
        "    lines = []\n",
        "    file_path = path + \"/\" + files[i]\n",
        "    file = open(file_path, \"r\")\n",
        "    while True:\n",
        "        every_line = file.readline()\n",
        "        if not every_line:\n",
        "            break\n",
        "        every_line = every_line.strip().split(\",\")\n",
        "        every_line.insert(-1, (1. if gender_list[i] is \"M\" else 0.))\n",
        "        lines = [float(x) for x in every_line]\n",
        "        dataset.append(lines)\n",
        "random.shuffle(dataset)\n",
        "values = []\n",
        "classes = []\n",
        "for i in range(len(dataset)):\n",
        "    values.append(dataset[i][0:-1])\n",
        "    classes.append(int(dataset[i][-1])-1)\n",
        "print(classes.count(0)/classes.count(3))\n",
        "print(classes.count(1)/classes.count(3))\n",
        "print(classes.count(2)/classes.count(3))\n",
        "print(classes.count(3)/classes.count(3))\n",
        "print(classes.count(0)/len(classes))\n",
        "print(classes.count(1)/len(classes))\n",
        "print(classes.count(2)/len(classes))\n",
        "print(classes.count(3)/len(classes))\n",
        "values = np.array(values)\n",
        "classes = np.array(classes)"
      ],
      "execution_count": null,
      "outputs": [
        {
          "output_type": "stream",
          "text": [
            "7.161065037101702\n",
            "2.1436054124836317\n",
            "22.487996508075078\n",
            "1.0\n",
            "0.21837397508252582\n",
            "0.06536843786604196\n",
            "0.6857629645405176\n",
            "0.030494622510914705\n"
          ],
          "name": "stdout"
        }
      ]
    },
    {
      "cell_type": "code",
      "metadata": {
        "id": "K0C5qHbVltee",
        "colab_type": "code",
        "colab": {}
      },
      "source": [
        "train_split = 0.7\n",
        "\n",
        "train_value_set = values[0:int(train_split*len(values))]\n",
        "train_class_set = classes[0:int(train_split*len(classes))]\n",
        "test_value_set = values[int(train_split*len(values)):]\n",
        "test_class_set = classes[int(train_split*len(classes)):]"
      ],
      "execution_count": null,
      "outputs": []
    },
    {
      "cell_type": "code",
      "metadata": {
        "id": "ENa3AjhFu7ft",
        "colab_type": "code",
        "colab": {}
      },
      "source": [
        "def select(condition, prediction, classes):\n",
        "  count = 0\n",
        "  length = 0\n",
        "  for pre, classe in zip(prediction, classes):\n",
        "    if pre == classe and pre == condition:\n",
        "      count += 1\n",
        "      length += 1\n",
        "    elif classe == condition:\n",
        "      length += 1\n",
        "  # print(count)\n",
        "  print(confusion_matrix(classes, prediction))\n",
        "  print(classification_report(classes, prediction))\n",
        "  return count, length"
      ],
      "execution_count": null,
      "outputs": []
    },
    {
      "cell_type": "code",
      "metadata": {
        "id": "YMwCnB69l5IR",
        "colab_type": "code",
        "colab": {
          "base_uri": "https://localhost:8080/",
          "height": 90
        },
        "outputId": "f1c51e5d-c0bc-48b9-e5dd-6e5d1e1dba69"
      },
      "source": [
        "model = neighbors.KNeighborsClassifier(n_neighbors=1,weights=\"uniform\")\n",
        "model.fit(train_value_set, np.expand_dims(train_class_set, 1))\n",
        "prediction = model.predict(test_value_set)\n",
        "count, length = select(3, prediction, test_class_set)\n",
        "print(count / length)"
      ],
      "execution_count": null,
      "outputs": [
        {
          "output_type": "stream",
          "text": [
            "/usr/local/lib/python3.6/dist-packages/ipykernel_launcher.py:2: DataConversionWarning: A column-vector y was passed when a 1d array was expected. Please change the shape of y to (n_samples, ), for example using ravel().\n",
            "  \n"
          ],
          "name": "stderr"
        },
        {
          "output_type": "stream",
          "text": [
            "0.6955903271692745\n"
          ],
          "name": "stdout"
        }
      ]
    },
    {
      "cell_type": "code",
      "metadata": {
        "id": "H-H09BfdPbJp",
        "colab_type": "code",
        "colab": {
          "base_uri": "https://localhost:8080/",
          "height": 186
        },
        "outputId": "3142e5be-c46d-4e3a-e78b-3dfbfa2c58e4"
      },
      "source": [
        "with open(\"/content/drive/My Drive/Colab Notebooks/data/Models/KNN/KNN.pickle\", \"wb\") as f:\n",
        "    pickle.dump(model, f)"
      ],
      "execution_count": null,
      "outputs": [
        {
          "output_type": "error",
          "ename": "NameError",
          "evalue": "ignored",
          "traceback": [
            "\u001b[0;31m---------------------------------------------------------------------------\u001b[0m",
            "\u001b[0;31mNameError\u001b[0m                                 Traceback (most recent call last)",
            "\u001b[0;32m<ipython-input-6-af01ebe7d4f5>\u001b[0m in \u001b[0;36m<module>\u001b[0;34m()\u001b[0m\n\u001b[1;32m      1\u001b[0m \u001b[0;32mwith\u001b[0m \u001b[0mopen\u001b[0m\u001b[0;34m(\u001b[0m\u001b[0;34m\"/content/drive/My Drive/Colab Notebooks/data/Models/KNN/KNN.pickle\"\u001b[0m\u001b[0;34m,\u001b[0m \u001b[0;34m\"wb\"\u001b[0m\u001b[0;34m)\u001b[0m \u001b[0;32mas\u001b[0m \u001b[0mf\u001b[0m\u001b[0;34m:\u001b[0m\u001b[0;34m\u001b[0m\u001b[0;34m\u001b[0m\u001b[0m\n\u001b[0;32m----> 2\u001b[0;31m     \u001b[0mpickle\u001b[0m\u001b[0;34m.\u001b[0m\u001b[0mdump\u001b[0m\u001b[0;34m(\u001b[0m\u001b[0mmodel\u001b[0m\u001b[0;34m,\u001b[0m \u001b[0mf\u001b[0m\u001b[0;34m)\u001b[0m\u001b[0;34m\u001b[0m\u001b[0;34m\u001b[0m\u001b[0m\n\u001b[0m",
            "\u001b[0;31mNameError\u001b[0m: name 'model' is not defined"
          ]
        }
      ]
    },
    {
      "cell_type": "code",
      "metadata": {
        "id": "9ZHzvGwDqWp5",
        "colab_type": "code",
        "colab": {}
      },
      "source": [
        "list_para = [i + 1 for i in range(50)]\n",
        "print(list_para)\n",
        "for i in range(len(list_para)):\n",
        "  model = neighbors.KNeighborsClassifier(n_neighbors=list_para[i],weights=\"distance\")\n",
        "  model.fit(train_value_set, np.expand_dims(train_class_set, 1))\n",
        "  prediction = model.predict(test_value_set)\n",
        "  pre_arr = np.array(prediction)\n",
        "  print(np.sum(pre_arr == test_class_set) / len(test_class_set))\n",
        "  count, length = select(3, prediction, test_class_set)\n",
        "  print(count)\n",
        "  print(length)\n",
        "  print(count / length)"
      ],
      "execution_count": null,
      "outputs": []
    },
    {
      "cell_type": "code",
      "metadata": {
        "id": "PHmK9hUw2WWR",
        "colab_type": "code",
        "colab": {
          "base_uri": "https://localhost:8080/",
          "height": 351
        },
        "outputId": "c4a567db-baf1-423f-f28f-018f6256b28c"
      },
      "source": [
        "model = pickle.load(open(\"/content/drive/My Drive/Colab Notebooks/data/Models/KNN/KNN.pickle\", \"rb\"))\n",
        "prediction = model.predict(test_value_set)\n",
        "pre_arr = np.array(prediction)\n",
        "print(np.sum(pre_arr == test_class_set) / len(test_class_set))\n",
        "count, length = select(0, prediction, test_class_set)\n",
        "print(count)\n",
        "print(length)\n",
        "print(count / length)"
      ],
      "execution_count": null,
      "outputs": [
        {
          "output_type": "stream",
          "text": [
            "0.9772838191579041\n",
            "[[ 4645    50   154    15]\n",
            " [   47  1385    24     4]\n",
            " [  108    28 15372    13]\n",
            " [   23     6    40   625]]\n",
            "              precision    recall  f1-score   support\n",
            "\n",
            "           0       0.96      0.95      0.96      4864\n",
            "           1       0.94      0.95      0.95      1460\n",
            "           2       0.99      0.99      0.99     15521\n",
            "           3       0.95      0.90      0.93       694\n",
            "\n",
            "    accuracy                           0.98     22539\n",
            "   macro avg       0.96      0.95      0.95     22539\n",
            "weighted avg       0.98      0.98      0.98     22539\n",
            "\n",
            "4645\n",
            "4864\n",
            "0.9549753289473685\n"
          ],
          "name": "stdout"
        }
      ]
    }
  ]
}